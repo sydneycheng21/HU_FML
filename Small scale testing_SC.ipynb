{
 "cells": [
  {
   "cell_type": "markdown",
   "metadata": {},
   "source": [
    "# Small scale testing with manually checked files"
   ]
  },
  {
   "cell_type": "markdown",
   "metadata": {},
   "source": [
    "The goal for this small scale experiment is to ensure that we can train and validate the ML model using existing manually checked files as the foundation for the larger data set later and generate results."
   ]
  },
  {
   "cell_type": "code",
   "execution_count": 1,
   "metadata": {},
   "outputs": [],
   "source": [
    "#Import libraries\n",
    "import numpy as np\n",
    "import matplotlib.pyplot as plt\n",
    "from pathlib2 import Path\n",
    "from sklearn.mixture import GaussianMixture\n",
    "from sklearn.metrics import f1_score\n",
    "import librosa\n",
    "from librosa import load\n",
    "import librosa.display\n",
    "import spafe\n",
    "from scipy import signal"
   ]
  },
  {
   "cell_type": "code",
   "execution_count": 2,
   "metadata": {},
   "outputs": [],
   "source": [
    "#audio augmentation: to prevent over fitting by using shifting method\n",
    "def audio_augment(arr, window_size = None, augment_ratio = 10):\n",
    "    if window_size is None:\n",
    "        window_size = arr.shape[-1] // augment_ratio\n",
    "\n",
    "    if arr.ndim > 1:\n",
    "        arr_augment = [arr[:, i:i+window_size] for i in np.linspace(0, arr.shape[-1] - window_size, augment_ratio).astype(int)]\n",
    "        arr_augment = np.swapaxes(np.array(arr_augment), 0, 1)\n",
    "        arr_augment = arr_augment.reshape(-1, window_size)\n",
    "    elif arr.ndim == 1:\n",
    "        arr_augment = np.array([arr[i:i+window_size] for i in np.linspace(0, arr.shape[-1] - window_size, augment_ratio).astype(int)])\n",
    "    return arr_augment"
   ]
  },
  {
   "cell_type": "code",
   "execution_count": 3,
   "metadata": {},
   "outputs": [],
   "source": [
    "#auto threshold function\n",
    "def get_best_threshold(y_score, y_true):\n",
    "    if len(np.unique(y_score)) == 1:\n",
    "        return (np.unique(y_score)[0], 'low_NG')\n",
    "    sorted_score = np.sort(np.unique(y_score))\n",
    "    proposed_threshold = np.stack([np.roll(sorted_score, 1),\n",
    "                                   sorted_score])[:, 1:].mean(axis = 0)\n",
    "    max_f1score = -np.inf\n",
    "    for threshold in proposed_threshold:\n",
    "        low_decision_dict = {'score_threshold': threshold,\n",
    "                             'rule': 'low_NG'}\n",
    "        high_decision_dict = {'score_threshold': threshold,\n",
    "                              'rule': 'high_NG'}\n",
    "        y_pred_low = score_to_pred(y_score, low_decision_dict)\n",
    "        y_pred_high = score_to_pred(y_score, high_decision_dict)\n",
    "        f1score_low = f1_score(y_true, y_pred_low)\n",
    "        f1score_high = f1_score(y_true, y_pred_high)\n",
    "        if f1score_low > max_f1score:\n",
    "            decision_dict = low_decision_dict\n",
    "            max_f1score = f1score_low\n",
    "        if f1score_high > max_f1score:\n",
    "            decision_dict = high_decision_dict\n",
    "            max_f1score = f1score_high\n",
    "    return decision_dict"
   ]
  },
  {
   "cell_type": "code",
   "execution_count": 4,
   "metadata": {},
   "outputs": [],
   "source": [
    "def score_to_pred(y_score, decision_dict):\n",
    "    if decision_dict['rule'] == 'low_NG':\n",
    "        threshold_low = decision_dict['score_threshold']\n",
    "        threshold_high = y_score.max()\n",
    "    elif decision_dict['rule'] == 'high_NG':\n",
    "        threshold_low = y_score.min()\n",
    "        threshold_high = decision_dict['score_threshold']\n",
    "    y_pred = (y_score < threshold_low) | (y_score > threshold_high)\n",
    "    return y_pred.astype(int)"
   ]
  },
  {
   "cell_type": "code",
   "execution_count": 5,
   "metadata": {},
   "outputs": [],
   "source": [
    "#load files path\n",
    "def load_wave(file_path, sr = None):\n",
    "    return load(file_path, sr = sr)"
   ]
  },
  {
   "cell_type": "code",
   "execution_count": 6,
   "metadata": {},
   "outputs": [],
   "source": [
    "#define data loading function\n",
    "def load_data(data_dir, sr = None):\n",
    "    data_dir = Path(data_dir)\n",
    "    wave_path_list = list(data_dir.glob('**/*.wav'))\n",
    "    #wave_path_list = unify_list(wave_path_list)  \n",
    "    wave_list = []\n",
    "    for wave_path in wave_path_list:\n",
    "        y, sr = load_wave(str(wave_path), sr = sr)\n",
    "        wave_list.append(y)\n",
    "    wave = np.array(wave_list)\n",
    "    return wave, sr"
   ]
  },
  {
   "cell_type": "code",
   "execution_count": 7,
   "metadata": {},
   "outputs": [],
   "source": [
    "#Define feature extraction function using mfcc\n",
    "def mfcc(arr, fs, n_mfcc = 20):\n",
    "    arr_mfcc = []\n",
    "    for i in range(len(arr)):\n",
    "        S = librosa.feature.mfcc(arr[i], fs, n_mfcc = n_mfcc) \n",
    "        arr_mfcc.append(S)\n",
    "    return np.array(arr_mfcc)"
   ]
  },
  {
   "cell_type": "code",
   "execution_count": 8,
   "metadata": {},
   "outputs": [],
   "source": [
    "#read data from manually checked files\n",
    "work_dir = Path('.')\n",
    "\n",
    "#audio testing results that are pre-tested manually as \"pass\" status\n",
    "ok_data_dir = work_dir / 'data/small_scale/OK'\n",
    "#audio testing results that are pre-tested manually as \"fail\" status\n",
    "ng_data_dir = work_dir / 'data/small_scale/NG'\n",
    "#audio testing results that are pre-tested manually as \"false-positive\" status\n",
    "fp_data_dir = work_dir / 'data/small_scale/FP'\n",
    "\n",
    "ok_wave, sr = load_data(ok_data_dir)\n",
    "ng_wave, sr = load_data(ng_data_dir)\n",
    "fp_wave, sr = load_data(fp_data_dir)"
   ]
  },
  {
   "cell_type": "code",
   "execution_count": 9,
   "metadata": {},
   "outputs": [],
   "source": [
    "#allocate data to train and validate\n",
    "train_wave = ok_wave[:20]\n",
    "valid_wave = np.concatenate([ok_wave[20:], ng_wave, fp_wave])"
   ]
  },
  {
   "cell_type": "code",
   "execution_count": 10,
   "metadata": {},
   "outputs": [],
   "source": [
    "#set the parameters\n",
    "augment_ratio = 10\n",
    "n_mfcc = 40\n",
    "\n",
    "#training and augmentation\n",
    "window_train_wave = audio_augment(train_wave, sr, augment_ratio = augment_ratio)\n",
    "\n",
    "#extract data\n",
    "window_train_feature = mfcc(window_train_wave, sr, n_mfcc = n_mfcc).max(axis=-1)"
   ]
  },
  {
   "cell_type": "code",
   "execution_count": 20,
   "metadata": {},
   "outputs": [
    {
     "data": {
      "text/plain": [
       "GaussianMixture()"
      ]
     },
     "execution_count": 20,
     "metadata": {},
     "output_type": "execute_result"
    }
   ],
   "source": [
    "#train model using GMM\n",
    "model = GaussianMixture(n_components=1, covariance_type='full')\n",
    "model.fit(window_train_feature)"
   ]
  },
  {
   "cell_type": "code",
   "execution_count": 12,
   "metadata": {},
   "outputs": [],
   "source": [
    "#audio augmentation\n",
    "window_valid_wave = audio_augment(valid_wave, sr, augment_ratio = augment_ratio)\n",
    "\n",
    "#extract data\n",
    "window_valid_feature = mfcc(window_valid_wave, sr, n_mfcc = n_mfcc).max(axis=-1)\n",
    "\n",
    "#Inference\n",
    "#compute the log-likelihood of each sample - a way to measure the goodness of fit for a OK and NG model\n",
    "window_score = model.score_samples(window_valid_feature)\n",
    "\n",
    "#determine decision threshold\n",
    "#define 'OK' as '0', 'NG' as '1'\n",
    "window_ground_true = np.array([0]*(len(ok_wave)-20)*augment_ratio +\n",
    "                              [1]*len(ng_wave)*augment_ratio +\n",
    "                              [0]*len(fp_wave)*augment_ratio)\n",
    "decision_dict = get_best_threshold(window_score, window_ground_true)"
   ]
  },
  {
   "cell_type": "code",
   "execution_count": 13,
   "metadata": {},
   "outputs": [
    {
     "data": {
      "text/plain": [
       "Text(0.5, 1.0, 'Score for each window')"
      ]
     },
     "execution_count": 13,
     "metadata": {},
     "output_type": "execute_result"
    },
    {
     "data": {
      "image/png": "[encoded data removed]",
      "text/plain": [
       "<Figure size 432x288 with 1 Axes>"
      ]
     },
     "metadata": {
      "needs_background": "light"
     },
     "output_type": "display_data"
    }
   ],
   "source": [
    "#show all window scores result - represent likelihood of each scenario\n",
    "ok_window_index = np.arange(0, (len(ok_wave)-20)*augment_ratio)\n",
    "ok_window_score = window_score[0:(len(ok_wave)-20)*augment_ratio]\n",
    "\n",
    "ng_window_index = np.arange((len(ok_wave)-20)*augment_ratio,\n",
    "                            (len(ng_wave)+len(ok_wave)-20)*augment_ratio)\n",
    "ng_window_score = window_score[(len(ok_wave)-20)*augment_ratio:\n",
    "                               (len(ng_wave)+len(ok_wave)-20)*augment_ratio]\n",
    "\n",
    "fp_window_index = np.arange((len(ng_wave)+len(ok_wave)-20)*augment_ratio,\n",
    "                            len(valid_wave)*augment_ratio)\n",
    "fp_window_score = window_score[(len(ng_wave)+len(ok_wave)-20)*augment_ratio:\n",
    "                               len(valid_wave)*augment_ratio]\n",
    "fig, ax = plt.subplots()\n",
    "ax.scatter(ok_window_index, ok_window_score, color = 'b')\n",
    "ax.scatter(ng_window_index, ng_window_score, color = 'r')\n",
    "ax.scatter(fp_window_index, fp_window_score, color = 'g')\n",
    "ax.axhline(y = decision_dict['score_threshold'], color = 'black')\n",
    "ax.set_xlabel('Window index')\n",
    "ax.set_ylabel('Score')\n",
    "ax.set_title('Score for each window')"
   ]
  },
  {
   "cell_type": "markdown",
   "metadata": {},
   "source": [
    "Because we defined \"OK\" as 0 and \"NG\" as 1, meaning we set audio testing results that are pre-tested manually as \"pass\" status equal to 0 and audio testing results that are pre-tested manually as \"fail\" status equal to 1. The score threshold line represents a definition of the pass and fails results. The red dots that spread well below the threshold line represent the likelihood of the past result. Therefore, the lower the score of \"NG\" means, the higher the likelihood that this product will result in a failed quality control test."
   ]
  },
  {
   "cell_type": "code",
   "execution_count": 14,
   "metadata": {},
   "outputs": [],
   "source": [
    "#calculate 'NG' window proportion in each wave\n",
    "#make the decision through all augmented windows\n",
    "window_prediction = score_to_pred(window_score, decision_dict)"
   ]
  },
  {
   "cell_type": "code",
   "execution_count": 15,
   "metadata": {},
   "outputs": [],
   "source": [
    "#de-augmentation for each wave\n",
    "wave_proportion_threshold = 0.5  #define the 'NG' window proportion threshold\n",
    "wave_proportion = window_prediction.reshape((-1, augment_ratio)).mean(axis=1)"
   ]
  },
  {
   "cell_type": "code",
   "execution_count": 16,
   "metadata": {},
   "outputs": [
    {
     "data": {
      "text/plain": [
       "Text(0.5, 1.0, 'NG proportion for each wave')"
      ]
     },
     "execution_count": 16,
     "metadata": {},
     "output_type": "execute_result"
    },
    {
     "data": {
      "image/png": "[encoded data removed]",
      "text/plain": [
       "<Figure size 432x288 with 1 Axes>"
      ]
     },
     "metadata": {
      "needs_background": "light"
     },
     "output_type": "display_data"
    }
   ],
   "source": [
    "#show 'NG' window proportion in each wave\n",
    "ok_wave_index = np.arange(0, len(ok_wave)-20)\n",
    "ok_wave_proportion = wave_proportion[0:len(ok_wave)-20]\n",
    "ng_wave_index = np.arange(len(ok_wave)-20, len(ng_wave)+len(ok_wave)-20)\n",
    "ng_wave_proportion = wave_proportion[len(ok_wave)-20:\n",
    "                                     len(ng_wave)+len(ok_wave)-20]\n",
    "fp_wave_index = np.arange(len(ng_wave)+len(ok_wave)-20, len(valid_wave))\n",
    "fp_wave_proportion = wave_proportion[len(ng_wave)+len(ok_wave)-20:\n",
    "                                     len(valid_wave)]\n",
    "fig, ax = plt.subplots()\n",
    "ax.scatter(ok_wave_index, ok_wave_proportion, color = 'b')\n",
    "ax.scatter(ng_wave_index, ng_wave_proportion, color = 'r')\n",
    "ax.scatter(fp_wave_index, fp_wave_proportion, color = 'g')\n",
    "ax.axhline(y = wave_proportion_threshold, color = 'black')\n",
    "ax.set_xlabel('Wave index')\n",
    "ax.set_ylabel('NG proportion')\n",
    "ax.set_title('NG proportion for each wave')"
   ]
  },
  {
   "cell_type": "markdown",
   "metadata": {},
   "source": [
    "The 295 files this model uses as a base show that the \"OK\" wave training result is statistically significant, where the model verified almost all results. \n",
    "On the other hand, the NG wave training result shows relatively significance where at least seven out of the 100 are not aligned with the supposed prediction from the model."
   ]
  },
  {
   "cell_type": "code",
   "execution_count": 17,
   "metadata": {
    "scrolled": true
   },
   "outputs": [
    {
     "name": "stdout",
     "output_type": "stream",
     "text": [
      "OK accuracy: 1.0\n",
      "NG accuracy: 0.9692307692307692\n",
      "FP accuracy: 1.0\n"
     ]
    }
   ],
   "source": [
    "#Make final decision + display results\n",
    "wave_prediction = (wave_proportion >= wave_proportion_threshold).astype(int)\n",
    "ok_wave_prediction = wave_prediction[0:len(ok_wave)-20]\n",
    "ng_wave_prediction = wave_prediction[len(ok_wave)-20:\n",
    "                                     len(ng_wave)+len(ok_wave)-20]\n",
    "fp_wave_prediction = wave_prediction[len(ng_wave)+len(ok_wave)-20:\n",
    "                                     len(valid_wave)]\n",
    "ok_wave_accuracy = (ok_wave_prediction == 0).mean()\n",
    "ng_wave_accuracy = (ng_wave_prediction == 1).mean()\n",
    "fp_wave_accuracy = (fp_wave_prediction == 0).mean()\n",
    "print(f'OK accuracy: {ok_wave_accuracy}')\n",
    "print(f'NG accuracy: {ng_wave_accuracy}')\n",
    "print(f'FP accuracy: {fp_wave_accuracy}')"
   ]
  }
 ],
 "metadata": {
  "kernelspec": {
   "display_name": "Python 3",
   "language": "python",
   "name": "python3"
  },
  "language_info": {
   "codemirror_mode": {
    "name": "ipython",
    "version": 3
   },
   "file_extension": ".py",
   "mimetype": "text/x-python",
   "name": "python",
   "nbconvert_exporter": "python",
   "pygments_lexer": "ipython3",
   "version": "3.8.5"
  }
 },
 "nbformat": 4,
 "nbformat_minor": 4
}
